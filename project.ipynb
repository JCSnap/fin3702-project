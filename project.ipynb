{
 "cells": [
  {
   "cell_type": "code",
   "execution_count": null,
   "metadata": {},
   "outputs": [
    {
     "name": "stdout",
     "output_type": "stream",
     "text": [
      "Downloaded VWUSX data\n",
      "Downloaded VTMGX data\n",
      "Downloaded VEUSX data\n",
      "Downloaded VFWAX data\n",
      "Downloaded VDEQX data\n",
      "Downloaded VTRIX data\n",
      "Downloaded VQNPX data\n",
      "Downloaded VSEQX data\n",
      "Downloaded VEMAX data\n",
      "Downloaded VTIAX data\n",
      "          Date   Open   High    Low  Close Adj Close\n",
      "0  29 Nov 2024  33.08  33.08  33.08  33.08     32.53\n",
      "1  27 Nov 2024  32.77  32.77  32.77  32.77     32.22\n",
      "2  26 Nov 2024  32.66  32.66  32.66  32.66     32.11\n",
      "3  25 Nov 2024  32.83  32.83  32.83  32.83     32.28\n",
      "4  22 Nov 2024  32.70  32.70  32.70  32.70     32.15\n"
     ]
    }
   ],
   "source": [
    "import requests\n",
    "from bs4 import BeautifulSoup\n",
    "import pandas as pd\n",
    "\n",
    "symbols = [\"VWUSX\", \"VTMGX\", \"VEUSX\", \"VFWAX\", \"VDEQX\", \"VTRIX\", \"VQNPX\", \"VSEQX\", \"VEMAX\", \"VTIAX\"]\n",
    "\n",
    "headers = {\n",
    "    \"User-Agent\": \"Mozilla/5.0 (Windows NT 10.0; Win64; x64) AppleWebKit/537.36 (KHTML, like Gecko) Chrome/91.0.4472.124 Safari/537.36\"\n",
    "}\n",
    "\n",
    "for symbol in symbols:\n",
    "    url = f\"https://sg.finance.yahoo.com/quote/{symbol}/history/?period1=1638316800&period2=1732924800\"\n",
    "\n",
    "    response = requests.get(url, headers=headers)\n",
    "    soup = BeautifulSoup(response.text, \"html.parser\")\n",
    "\n",
    "    table = soup.find(\"table\")\n",
    "\n",
    "    rows = table.find_all(\"tr\")[1:]\n",
    "\n",
    "    data = []\n",
    "    for row in rows:\n",
    "        cols = row.find_all(\"td\")\n",
    "        if len(cols) < 6:\n",
    "            continue\n",
    "        date = cols[0].text.strip()\n",
    "        open_price = cols[1].text.strip()\n",
    "        high = cols[2].text.strip()\n",
    "        low = cols[3].text.strip()\n",
    "        close = cols[4].text.strip()\n",
    "        adj_close = cols[5].text.strip()\n",
    "        data.append([date, open_price, high, low, close, adj_close])\n",
    "\n",
    "    df = pd.DataFrame(data, columns=[\"Date\", \"Open\", \"High\", \"Low\", \"Close\", \"Adj Close\"])\n",
    "    df.to_csv(f\"./data/{symbol}.csv\", index=False)\n",
    "    print(f\"Downloaded {symbol} data\")\n",
    "\n",
    "print(df.head())\n"
   ]
  },
  {
   "cell_type": "code",
   "execution_count": null,
   "metadata": {},
   "outputs": [
    {
     "name": "stderr",
     "output_type": "stream",
     "text": [
      "/var/folders/h7/yhzp4v912nv1xqw0v1gx37880000gn/T/ipykernel_68371/325474486.py:8: FutureWarning: 'M' is deprecated and will be removed in a future version, please use 'ME' instead.\n",
      "  monthly_data = df.resample(\"M\").last()\n",
      "/var/folders/h7/yhzp4v912nv1xqw0v1gx37880000gn/T/ipykernel_68371/325474486.py:8: FutureWarning: 'M' is deprecated and will be removed in a future version, please use 'ME' instead.\n",
      "  monthly_data = df.resample(\"M\").last()\n",
      "/var/folders/h7/yhzp4v912nv1xqw0v1gx37880000gn/T/ipykernel_68371/325474486.py:8: FutureWarning: 'M' is deprecated and will be removed in a future version, please use 'ME' instead.\n",
      "  monthly_data = df.resample(\"M\").last()\n",
      "/var/folders/h7/yhzp4v912nv1xqw0v1gx37880000gn/T/ipykernel_68371/325474486.py:8: FutureWarning: 'M' is deprecated and will be removed in a future version, please use 'ME' instead.\n",
      "  monthly_data = df.resample(\"M\").last()\n",
      "/var/folders/h7/yhzp4v912nv1xqw0v1gx37880000gn/T/ipykernel_68371/325474486.py:8: FutureWarning: 'M' is deprecated and will be removed in a future version, please use 'ME' instead.\n",
      "  monthly_data = df.resample(\"M\").last()\n",
      "/var/folders/h7/yhzp4v912nv1xqw0v1gx37880000gn/T/ipykernel_68371/325474486.py:8: FutureWarning: 'M' is deprecated and will be removed in a future version, please use 'ME' instead.\n",
      "  monthly_data = df.resample(\"M\").last()\n",
      "/var/folders/h7/yhzp4v912nv1xqw0v1gx37880000gn/T/ipykernel_68371/325474486.py:8: FutureWarning: 'M' is deprecated and will be removed in a future version, please use 'ME' instead.\n",
      "  monthly_data = df.resample(\"M\").last()\n",
      "/var/folders/h7/yhzp4v912nv1xqw0v1gx37880000gn/T/ipykernel_68371/325474486.py:8: FutureWarning: 'M' is deprecated and will be removed in a future version, please use 'ME' instead.\n",
      "  monthly_data = df.resample(\"M\").last()\n",
      "/var/folders/h7/yhzp4v912nv1xqw0v1gx37880000gn/T/ipykernel_68371/325474486.py:8: FutureWarning: 'M' is deprecated and will be removed in a future version, please use 'ME' instead.\n",
      "  monthly_data = df.resample(\"M\").last()\n",
      "/var/folders/h7/yhzp4v912nv1xqw0v1gx37880000gn/T/ipykernel_68371/325474486.py:8: FutureWarning: 'M' is deprecated and will be removed in a future version, please use 'ME' instead.\n",
      "  monthly_data = df.resample(\"M\").last()\n"
     ]
    }
   ],
   "source": [
    "for symbol in symbols:\n",
    "    df = pd.read_csv(f\"{symbol}.csv\")\n",
    "    df[\"Date\"] = df[\"Date\"].str.replace(\"Sept\", \"Sep\")\n",
    "    df[\"Date\"] = pd.to_datetime(df[\"Date\"], format=\"%d %b %Y\", dayfirst=True)\n",
    "    df.set_index(\"Date\", inplace=True)\n",
    "    df.sort_index(inplace=True)\n",
    "    df[\"Adj Close\"] = df[\"Adj Close\"].astype(float)\n",
    "    monthly_data = df.resample(\"M\").last()\n",
    "    monthly_returns = monthly_data[\"Adj Close\"].pct_change()\n",
    "    monthly_returns.dropna(inplace=True)\n",
    "    monthly_returns.name = symbol\n",
    "    monthly_returns.to_csv(f\"./monthly_returns/{symbol}_monthly_returns.csv\")\n"
   ]
  }
 ],
 "metadata": {
  "kernelspec": {
   "display_name": "base",
   "language": "python",
   "name": "python3"
  },
  "language_info": {
   "codemirror_mode": {
    "name": "ipython",
    "version": 3
   },
   "file_extension": ".py",
   "mimetype": "text/x-python",
   "name": "python",
   "nbconvert_exporter": "python",
   "pygments_lexer": "ipython3",
   "version": "3.9.19"
  },
  "orig_nbformat": 4
 },
 "nbformat": 4,
 "nbformat_minor": 2
}
